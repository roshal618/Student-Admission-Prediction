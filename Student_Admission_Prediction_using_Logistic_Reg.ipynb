{
  "nbformat": 4,
  "nbformat_minor": 0,
  "metadata": {
    "colab": {
      "provenance": []
    },
    "kernelspec": {
      "name": "python3",
      "display_name": "Python 3"
    },
    "language_info": {
      "name": "python"
    }
  },
  "cells": [
    {
      "cell_type": "markdown",
      "source": [
        "# Student Admission Prediction using Logistic Regression"
      ],
      "metadata": {
        "id": "sSZG9RI4Q7rY"
      }
    },
    {
      "cell_type": "markdown",
      "source": [
        "We will build a logistic regression model to\n",
        "predict whether a student gets admitted into a university.\n",
        "Suppose that you are the administrator of a university department and\n",
        "you want to determine each applicant’s chance of admission based on their\n",
        "results on two exams. You have historical data from previous applicants\n",
        "that you can use as a training set for logistic regression. For each training\n",
        "example, you have the applicant’s scores on two exams and the admissions\n",
        "decision."
      ],
      "metadata": {
        "id": "xzjwKc0xQ1PU"
      }
    },
    {
      "cell_type": "code",
      "execution_count": null,
      "metadata": {
        "id": "yKvUHk2lZveb",
        "colab": {
          "base_uri": "https://localhost:8080/",
          "height": 73
        },
        "outputId": "1ce999e9-551c-44ac-8b9f-7210bddb20b8"
      },
      "outputs": [
        {
          "output_type": "display_data",
          "data": {
            "text/plain": [
              "<IPython.core.display.HTML object>"
            ],
            "text/html": [
              "\n",
              "     <input type=\"file\" id=\"files-0df6b758-37cd-473d-af28-1c951b8a87ab\" name=\"files[]\" multiple disabled\n",
              "        style=\"border:none\" />\n",
              "     <output id=\"result-0df6b758-37cd-473d-af28-1c951b8a87ab\">\n",
              "      Upload widget is only available when the cell has been executed in the\n",
              "      current browser session. Please rerun this cell to enable.\n",
              "      </output>\n",
              "      <script>// Copyright 2017 Google LLC\n",
              "//\n",
              "// Licensed under the Apache License, Version 2.0 (the \"License\");\n",
              "// you may not use this file except in compliance with the License.\n",
              "// You may obtain a copy of the License at\n",
              "//\n",
              "//      http://www.apache.org/licenses/LICENSE-2.0\n",
              "//\n",
              "// Unless required by applicable law or agreed to in writing, software\n",
              "// distributed under the License is distributed on an \"AS IS\" BASIS,\n",
              "// WITHOUT WARRANTIES OR CONDITIONS OF ANY KIND, either express or implied.\n",
              "// See the License for the specific language governing permissions and\n",
              "// limitations under the License.\n",
              "\n",
              "/**\n",
              " * @fileoverview Helpers for google.colab Python module.\n",
              " */\n",
              "(function(scope) {\n",
              "function span(text, styleAttributes = {}) {\n",
              "  const element = document.createElement('span');\n",
              "  element.textContent = text;\n",
              "  for (const key of Object.keys(styleAttributes)) {\n",
              "    element.style[key] = styleAttributes[key];\n",
              "  }\n",
              "  return element;\n",
              "}\n",
              "\n",
              "// Max number of bytes which will be uploaded at a time.\n",
              "const MAX_PAYLOAD_SIZE = 100 * 1024;\n",
              "\n",
              "function _uploadFiles(inputId, outputId) {\n",
              "  const steps = uploadFilesStep(inputId, outputId);\n",
              "  const outputElement = document.getElementById(outputId);\n",
              "  // Cache steps on the outputElement to make it available for the next call\n",
              "  // to uploadFilesContinue from Python.\n",
              "  outputElement.steps = steps;\n",
              "\n",
              "  return _uploadFilesContinue(outputId);\n",
              "}\n",
              "\n",
              "// This is roughly an async generator (not supported in the browser yet),\n",
              "// where there are multiple asynchronous steps and the Python side is going\n",
              "// to poll for completion of each step.\n",
              "// This uses a Promise to block the python side on completion of each step,\n",
              "// then passes the result of the previous step as the input to the next step.\n",
              "function _uploadFilesContinue(outputId) {\n",
              "  const outputElement = document.getElementById(outputId);\n",
              "  const steps = outputElement.steps;\n",
              "\n",
              "  const next = steps.next(outputElement.lastPromiseValue);\n",
              "  return Promise.resolve(next.value.promise).then((value) => {\n",
              "    // Cache the last promise value to make it available to the next\n",
              "    // step of the generator.\n",
              "    outputElement.lastPromiseValue = value;\n",
              "    return next.value.response;\n",
              "  });\n",
              "}\n",
              "\n",
              "/**\n",
              " * Generator function which is called between each async step of the upload\n",
              " * process.\n",
              " * @param {string} inputId Element ID of the input file picker element.\n",
              " * @param {string} outputId Element ID of the output display.\n",
              " * @return {!Iterable<!Object>} Iterable of next steps.\n",
              " */\n",
              "function* uploadFilesStep(inputId, outputId) {\n",
              "  const inputElement = document.getElementById(inputId);\n",
              "  inputElement.disabled = false;\n",
              "\n",
              "  const outputElement = document.getElementById(outputId);\n",
              "  outputElement.innerHTML = '';\n",
              "\n",
              "  const pickedPromise = new Promise((resolve) => {\n",
              "    inputElement.addEventListener('change', (e) => {\n",
              "      resolve(e.target.files);\n",
              "    });\n",
              "  });\n",
              "\n",
              "  const cancel = document.createElement('button');\n",
              "  inputElement.parentElement.appendChild(cancel);\n",
              "  cancel.textContent = 'Cancel upload';\n",
              "  const cancelPromise = new Promise((resolve) => {\n",
              "    cancel.onclick = () => {\n",
              "      resolve(null);\n",
              "    };\n",
              "  });\n",
              "\n",
              "  // Wait for the user to pick the files.\n",
              "  const files = yield {\n",
              "    promise: Promise.race([pickedPromise, cancelPromise]),\n",
              "    response: {\n",
              "      action: 'starting',\n",
              "    }\n",
              "  };\n",
              "\n",
              "  cancel.remove();\n",
              "\n",
              "  // Disable the input element since further picks are not allowed.\n",
              "  inputElement.disabled = true;\n",
              "\n",
              "  if (!files) {\n",
              "    return {\n",
              "      response: {\n",
              "        action: 'complete',\n",
              "      }\n",
              "    };\n",
              "  }\n",
              "\n",
              "  for (const file of files) {\n",
              "    const li = document.createElement('li');\n",
              "    li.append(span(file.name, {fontWeight: 'bold'}));\n",
              "    li.append(span(\n",
              "        `(${file.type || 'n/a'}) - ${file.size} bytes, ` +\n",
              "        `last modified: ${\n",
              "            file.lastModifiedDate ? file.lastModifiedDate.toLocaleDateString() :\n",
              "                                    'n/a'} - `));\n",
              "    const percent = span('0% done');\n",
              "    li.appendChild(percent);\n",
              "\n",
              "    outputElement.appendChild(li);\n",
              "\n",
              "    const fileDataPromise = new Promise((resolve) => {\n",
              "      const reader = new FileReader();\n",
              "      reader.onload = (e) => {\n",
              "        resolve(e.target.result);\n",
              "      };\n",
              "      reader.readAsArrayBuffer(file);\n",
              "    });\n",
              "    // Wait for the data to be ready.\n",
              "    let fileData = yield {\n",
              "      promise: fileDataPromise,\n",
              "      response: {\n",
              "        action: 'continue',\n",
              "      }\n",
              "    };\n",
              "\n",
              "    // Use a chunked sending to avoid message size limits. See b/62115660.\n",
              "    let position = 0;\n",
              "    do {\n",
              "      const length = Math.min(fileData.byteLength - position, MAX_PAYLOAD_SIZE);\n",
              "      const chunk = new Uint8Array(fileData, position, length);\n",
              "      position += length;\n",
              "\n",
              "      const base64 = btoa(String.fromCharCode.apply(null, chunk));\n",
              "      yield {\n",
              "        response: {\n",
              "          action: 'append',\n",
              "          file: file.name,\n",
              "          data: base64,\n",
              "        },\n",
              "      };\n",
              "\n",
              "      let percentDone = fileData.byteLength === 0 ?\n",
              "          100 :\n",
              "          Math.round((position / fileData.byteLength) * 100);\n",
              "      percent.textContent = `${percentDone}% done`;\n",
              "\n",
              "    } while (position < fileData.byteLength);\n",
              "  }\n",
              "\n",
              "  // All done.\n",
              "  yield {\n",
              "    response: {\n",
              "      action: 'complete',\n",
              "    }\n",
              "  };\n",
              "}\n",
              "\n",
              "scope.google = scope.google || {};\n",
              "scope.google.colab = scope.google.colab || {};\n",
              "scope.google.colab._files = {\n",
              "  _uploadFiles,\n",
              "  _uploadFilesContinue,\n",
              "};\n",
              "})(self);\n",
              "</script> "
            ]
          },
          "metadata": {}
        },
        {
          "output_type": "stream",
          "name": "stdout",
          "text": [
            "Saving ex2data1.txt to ex2data1.txt\n"
          ]
        }
      ],
      "source": [
        "# Import data from drive\n",
        "from google.colab import files\n",
        "uploaded = files.upload()"
      ]
    },
    {
      "cell_type": "code",
      "source": [
        "# Load text file into a pandas dataframe\n",
        "import pandas as pd\n",
        "df = pd.read_csv('ex2data1.txt', sep=',', header=None, names=['Exam1 Score','Exam2 Score','Result'])\n",
        "print(df.head())"
      ],
      "metadata": {
        "colab": {
          "base_uri": "https://localhost:8080/"
        },
        "id": "8pK3ESAyZMBV",
        "outputId": "53b98391-3321-4722-fb90-047db23cdbd9"
      },
      "execution_count": null,
      "outputs": [
        {
          "output_type": "stream",
          "name": "stdout",
          "text": [
            "   Exam1 Score  Exam2 Score  Result\n",
            "0    34.623660    78.024693       0\n",
            "1    30.286711    43.894998       0\n",
            "2    35.847409    72.902198       0\n",
            "3    60.182599    86.308552       1\n",
            "4    79.032736    75.344376       1\n"
          ]
        }
      ]
    },
    {
      "cell_type": "code",
      "source": [
        "df.describe()"
      ],
      "metadata": {
        "colab": {
          "base_uri": "https://localhost:8080/",
          "height": 300
        },
        "id": "MmF12tbNaf98",
        "outputId": "81e0f0cc-8593-4ff8-c1f8-d85902cd97f6"
      },
      "execution_count": null,
      "outputs": [
        {
          "output_type": "execute_result",
          "data": {
            "text/plain": [
              "       Exam1 Score  Exam2 Score      Result\n",
              "count   100.000000   100.000000  100.000000\n",
              "mean     65.644274    66.221998    0.600000\n",
              "std      19.458222    18.582783    0.492366\n",
              "min      30.058822    30.603263    0.000000\n",
              "25%      50.919511    48.179205    0.000000\n",
              "50%      67.032988    67.682381    1.000000\n",
              "75%      80.212529    79.360605    1.000000\n",
              "max      99.827858    98.869436    1.000000"
            ],
            "text/html": [
              "\n",
              "  <div id=\"df-f60f4f3c-3489-4e4f-abc6-26fddbd93341\">\n",
              "    <div class=\"colab-df-container\">\n",
              "      <div>\n",
              "<style scoped>\n",
              "    .dataframe tbody tr th:only-of-type {\n",
              "        vertical-align: middle;\n",
              "    }\n",
              "\n",
              "    .dataframe tbody tr th {\n",
              "        vertical-align: top;\n",
              "    }\n",
              "\n",
              "    .dataframe thead th {\n",
              "        text-align: right;\n",
              "    }\n",
              "</style>\n",
              "<table border=\"1\" class=\"dataframe\">\n",
              "  <thead>\n",
              "    <tr style=\"text-align: right;\">\n",
              "      <th></th>\n",
              "      <th>Exam1 Score</th>\n",
              "      <th>Exam2 Score</th>\n",
              "      <th>Result</th>\n",
              "    </tr>\n",
              "  </thead>\n",
              "  <tbody>\n",
              "    <tr>\n",
              "      <th>count</th>\n",
              "      <td>100.000000</td>\n",
              "      <td>100.000000</td>\n",
              "      <td>100.000000</td>\n",
              "    </tr>\n",
              "    <tr>\n",
              "      <th>mean</th>\n",
              "      <td>65.644274</td>\n",
              "      <td>66.221998</td>\n",
              "      <td>0.600000</td>\n",
              "    </tr>\n",
              "    <tr>\n",
              "      <th>std</th>\n",
              "      <td>19.458222</td>\n",
              "      <td>18.582783</td>\n",
              "      <td>0.492366</td>\n",
              "    </tr>\n",
              "    <tr>\n",
              "      <th>min</th>\n",
              "      <td>30.058822</td>\n",
              "      <td>30.603263</td>\n",
              "      <td>0.000000</td>\n",
              "    </tr>\n",
              "    <tr>\n",
              "      <th>25%</th>\n",
              "      <td>50.919511</td>\n",
              "      <td>48.179205</td>\n",
              "      <td>0.000000</td>\n",
              "    </tr>\n",
              "    <tr>\n",
              "      <th>50%</th>\n",
              "      <td>67.032988</td>\n",
              "      <td>67.682381</td>\n",
              "      <td>1.000000</td>\n",
              "    </tr>\n",
              "    <tr>\n",
              "      <th>75%</th>\n",
              "      <td>80.212529</td>\n",
              "      <td>79.360605</td>\n",
              "      <td>1.000000</td>\n",
              "    </tr>\n",
              "    <tr>\n",
              "      <th>max</th>\n",
              "      <td>99.827858</td>\n",
              "      <td>98.869436</td>\n",
              "      <td>1.000000</td>\n",
              "    </tr>\n",
              "  </tbody>\n",
              "</table>\n",
              "</div>\n",
              "      <button class=\"colab-df-convert\" onclick=\"convertToInteractive('df-f60f4f3c-3489-4e4f-abc6-26fddbd93341')\"\n",
              "              title=\"Convert this dataframe to an interactive table.\"\n",
              "              style=\"display:none;\">\n",
              "        \n",
              "  <svg xmlns=\"http://www.w3.org/2000/svg\" height=\"24px\"viewBox=\"0 0 24 24\"\n",
              "       width=\"24px\">\n",
              "    <path d=\"M0 0h24v24H0V0z\" fill=\"none\"/>\n",
              "    <path d=\"M18.56 5.44l.94 2.06.94-2.06 2.06-.94-2.06-.94-.94-2.06-.94 2.06-2.06.94zm-11 1L8.5 8.5l.94-2.06 2.06-.94-2.06-.94L8.5 2.5l-.94 2.06-2.06.94zm10 10l.94 2.06.94-2.06 2.06-.94-2.06-.94-.94-2.06-.94 2.06-2.06.94z\"/><path d=\"M17.41 7.96l-1.37-1.37c-.4-.4-.92-.59-1.43-.59-.52 0-1.04.2-1.43.59L10.3 9.45l-7.72 7.72c-.78.78-.78 2.05 0 2.83L4 21.41c.39.39.9.59 1.41.59.51 0 1.02-.2 1.41-.59l7.78-7.78 2.81-2.81c.8-.78.8-2.07 0-2.86zM5.41 20L4 18.59l7.72-7.72 1.47 1.35L5.41 20z\"/>\n",
              "  </svg>\n",
              "      </button>\n",
              "      \n",
              "  <style>\n",
              "    .colab-df-container {\n",
              "      display:flex;\n",
              "      flex-wrap:wrap;\n",
              "      gap: 12px;\n",
              "    }\n",
              "\n",
              "    .colab-df-convert {\n",
              "      background-color: #E8F0FE;\n",
              "      border: none;\n",
              "      border-radius: 50%;\n",
              "      cursor: pointer;\n",
              "      display: none;\n",
              "      fill: #1967D2;\n",
              "      height: 32px;\n",
              "      padding: 0 0 0 0;\n",
              "      width: 32px;\n",
              "    }\n",
              "\n",
              "    .colab-df-convert:hover {\n",
              "      background-color: #E2EBFA;\n",
              "      box-shadow: 0px 1px 2px rgba(60, 64, 67, 0.3), 0px 1px 3px 1px rgba(60, 64, 67, 0.15);\n",
              "      fill: #174EA6;\n",
              "    }\n",
              "\n",
              "    [theme=dark] .colab-df-convert {\n",
              "      background-color: #3B4455;\n",
              "      fill: #D2E3FC;\n",
              "    }\n",
              "\n",
              "    [theme=dark] .colab-df-convert:hover {\n",
              "      background-color: #434B5C;\n",
              "      box-shadow: 0px 1px 3px 1px rgba(0, 0, 0, 0.15);\n",
              "      filter: drop-shadow(0px 1px 2px rgba(0, 0, 0, 0.3));\n",
              "      fill: #FFFFFF;\n",
              "    }\n",
              "  </style>\n",
              "\n",
              "      <script>\n",
              "        const buttonEl =\n",
              "          document.querySelector('#df-f60f4f3c-3489-4e4f-abc6-26fddbd93341 button.colab-df-convert');\n",
              "        buttonEl.style.display =\n",
              "          google.colab.kernel.accessAllowed ? 'block' : 'none';\n",
              "\n",
              "        async function convertToInteractive(key) {\n",
              "          const element = document.querySelector('#df-f60f4f3c-3489-4e4f-abc6-26fddbd93341');\n",
              "          const dataTable =\n",
              "            await google.colab.kernel.invokeFunction('convertToInteractive',\n",
              "                                                     [key], {});\n",
              "          if (!dataTable) return;\n",
              "\n",
              "          const docLinkHtml = 'Like what you see? Visit the ' +\n",
              "            '<a target=\"_blank\" href=https://colab.research.google.com/notebooks/data_table.ipynb>data table notebook</a>'\n",
              "            + ' to learn more about interactive tables.';\n",
              "          element.innerHTML = '';\n",
              "          dataTable['output_type'] = 'display_data';\n",
              "          await google.colab.output.renderOutput(dataTable, element);\n",
              "          const docLink = document.createElement('div');\n",
              "          docLink.innerHTML = docLinkHtml;\n",
              "          element.appendChild(docLink);\n",
              "        }\n",
              "      </script>\n",
              "    </div>\n",
              "  </div>\n",
              "  "
            ]
          },
          "metadata": {},
          "execution_count": 3
        }
      ]
    },
    {
      "cell_type": "code",
      "source": [
        "# Plotting the data\n",
        "import numpy as np\n",
        "import matplotlib.pyplot as plt\n",
        "\n",
        "'''\n",
        "x (ndarray) - (m,n) : matrix of m examples with n features\n",
        "y (ndarray) - (m,1) : target values\n",
        "'''\n",
        "\n",
        "data = df.values\n",
        "x = np.array(data[:,:2])\n",
        "y = np.array(data[:,2]).reshape(np.size(x,0),1)\n",
        "\n",
        "def Plot_Data(x,y):\n",
        "  x_pos = np.where(y==1)\n",
        "  x_neg = np.where(y==0)\n",
        "  x_pos = x_pos[0].tolist()\n",
        "  x_neg = x_neg[0].tolist()\n",
        "  x_A = x[x_pos,:]\n",
        "  x_B = x[x_neg,:]\n",
        "  plt.figure()\n",
        "  plt.title('Student Admission Result')\n",
        "  plt.xlabel('Exam1 Score')\n",
        "  plt.ylabel('Exam2 Score')\n",
        "  plt.scatter(x_A[:,0], x_A[:,1], s=45, c='b', marker='+')\n",
        "  plt.scatter(x_B[:,0], x_B[:,1], s=25, c='r', marker='o')\n",
        "  plt.legend(['Admitted', 'Not Admitted'])\n",
        "  return\n",
        "\n",
        "Plot_Data(x,y)"
      ],
      "metadata": {
        "colab": {
          "base_uri": "https://localhost:8080/",
          "height": 295
        },
        "id": "Ub6gce8-ZJdM",
        "outputId": "bd27b4f9-3a4d-44aa-8a4c-2ac4c1fdaff0"
      },
      "execution_count": null,
      "outputs": [
        {
          "output_type": "display_data",
          "data": {
            "text/plain": [
              "<Figure size 432x288 with 1 Axes>"
            ],
            "image/png": "[encoded data removed]"
          },
          "metadata": {
            "needs_background": "light"
          }
        }
      ]
    },
    {
      "cell_type": "code",
      "source": [
        "# Sigmoid Function\n",
        "def sigmoid(z):\n",
        "  sig= 1/(1+ np.exp(-z))\n",
        "  return sig\n",
        "\n",
        "sigmoid(0)"
      ],
      "metadata": {
        "colab": {
          "base_uri": "https://localhost:8080/"
        },
        "id": "do44r1MRqne1",
        "outputId": "55572a1c-d495-4633-bb5b-7ec55077286b"
      },
      "execution_count": null,
      "outputs": [
        {
          "output_type": "execute_result",
          "data": {
            "text/plain": [
              "0.5"
            ]
          },
          "metadata": {},
          "execution_count": 7
        }
      ]
    },
    {
      "cell_type": "code",
      "source": [
        "# Initializing the parameters\n",
        "import copy\n",
        "'''\n",
        "w (scalar)     : prediction parameter\n",
        "b (scalar)     : prediction parameter\n",
        "iters          : number of iterations\n",
        "alpha          : learning rate\n",
        "'''\n",
        "w_int = np.zeros((np.size(x,1),1))\n",
        "b_int = 0\n",
        "iters = 400\n",
        "alpha = 0.1"
      ],
      "metadata": {
        "id": "3KwKY6VhusFn"
      },
      "execution_count": null,
      "outputs": []
    },
    {
      "cell_type": "code",
      "source": [
        "# Computing Cost Function\n",
        "def Compute_Cost(x,y,w,b):\n",
        "  '''\n",
        "   J (scalar): cost \n",
        "  '''\n",
        "\n",
        "  J = 0\n",
        "  m = np.size(x,0)\n",
        "  w = copy.deepcopy(w)\n",
        "  \n",
        "  z = np.dot(x,w) + b\n",
        "  g_x = sigmoid(z)\n",
        "  J = - np.multiply(y,np.log(g_x)) - np.multiply((1-y),np.log(1-g_x))\n",
        "  J = np.sum(J)/m\n",
        "  return J\n",
        "\n",
        "Compute_Cost(x,y,w_int,b_int)"
      ],
      "metadata": {
        "colab": {
          "base_uri": "https://localhost:8080/"
        },
        "id": "OJrr0XUGoJyS",
        "outputId": "7c880619-2757-4bc5-d65d-29c47fc86a84"
      },
      "execution_count": null,
      "outputs": [
        {
          "output_type": "execute_result",
          "data": {
            "text/plain": [
              "0.6931471805599453"
            ]
          },
          "metadata": {},
          "execution_count": 75
        }
      ]
    },
    {
      "cell_type": "code",
      "source": [
        "# Compute the Gradient\n",
        "def Compute_Gradient(x,y,w,b):\n",
        "  '''\n",
        "  dw (scalar) : Gradient of the cost w.r.t parameter w\n",
        "  db (scalar) : Gradient of the cost w.r.t parameter b \n",
        "  '''\n",
        "\n",
        "  dw = 0\n",
        "  db = 0\n",
        "  m,n = x.shape\n",
        "\n",
        "  z = np.dot(x,w) + b\n",
        "  err = sigmoid(z) - y\n",
        "  dw = np.transpose(x) @ err/m\n",
        "  db = np.sum(err)/m\n",
        "  \n",
        "  return dw, db\n",
        "\n",
        "Compute_Gradient(x,y,w_int,b_int)"
      ],
      "metadata": {
        "colab": {
          "base_uri": "https://localhost:8080/"
        },
        "id": "tA52B_C8yGds",
        "outputId": "6ea5029f-a595-46b2-ab64-e7d297ccd412"
      },
      "execution_count": null,
      "outputs": [
        {
          "output_type": "execute_result",
          "data": {
            "text/plain": [
              "(array([[-12.00921659],\n",
              "        [-11.26284221]]), -0.1)"
            ]
          },
          "metadata": {},
          "execution_count": 76
        }
      ]
    },
    {
      "cell_type": "code",
      "source": [
        "# Testing on non-zero parameters\n",
        "\n",
        "wt = np.array([[0.2],[0.2]])\n",
        "bt = -24\n",
        "Ct = Compute_Cost(x,y,wt,bt)\n",
        "gt = Compute_Gradient(x,y,wt,bt)\n",
        "print(Ct)\n",
        "print(gt)"
      ],
      "metadata": {
        "colab": {
          "base_uri": "https://localhost:8080/"
        },
        "id": "iP50vIe9Igsf",
        "outputId": "7e69d212-b418-4d57-fcdc-0dafd6d38cd5"
      },
      "execution_count": null,
      "outputs": [
        {
          "output_type": "stream",
          "name": "stdout",
          "text": [
            "0.21833019382659777\n",
            "(array([[2.56623412],\n",
            "       [2.64679737]]), 0.04290299489953447)\n"
          ]
        }
      ]
    },
    {
      "cell_type": "code",
      "source": [
        "# Compute Gradient Descent\n",
        "def Gradient_Descent(x,y,w,b, iters, alpha):\n",
        "  J_hist = []\n",
        "\n",
        "  for i in range(iters):\n",
        "    dw, db = Compute_Gradient(x,y,w,b)\n",
        "    w = w - alpha * dw\n",
        "    b = b - alpha * db\n",
        "    J_hist.append(Compute_Cost(x,y,w,b))\n",
        "\n",
        "  return w, b, J_hist"
      ],
      "metadata": {
        "id": "ckJKcTAB0GdV"
      },
      "execution_count": null,
      "outputs": []
    },
    {
      "cell_type": "code",
      "source": [
        "alpha = 0.001\n",
        "w, b, J_hist = Gradient_Descent(x,y,wt,bt, iters, alpha)\n",
        "# \n",
        "print(\"Cost at theta found: \", Compute_Cost(x,y,w,b))\n",
        "print(\"w: \", w.flatten())\n",
        "print(\"b: \", b)"
      ],
      "metadata": {
        "colab": {
          "base_uri": "https://localhost:8080/"
        },
        "id": "XY6DjeE-1NmT",
        "outputId": "5f0ffce1-495d-4e0a-a1a0-eb6c058f1e2e"
      },
      "execution_count": null,
      "outputs": [
        {
          "output_type": "stream",
          "name": "stdout",
          "text": [
            "Cost at theta found:  0.20370644419350709\n",
            "w:  [0.19694609 0.19207535]\n",
            "b:  -24.00023629478729\n"
          ]
        }
      ]
    },
    {
      "cell_type": "code",
      "source": [
        "# Plot Decision Boundary\n",
        "\n",
        "def Plot_Decision_Boundary(x,y,w,b):\n",
        "  \n",
        "  x = copy.deepcopy(x)\n",
        "  w = copy.deepcopy(w)\n",
        "\n",
        "  Plot_Data(x,y)\n",
        "  plot_x = [np.min(x)-2,np.max(x)+2]\n",
        "  plot_y = (-1/ w[1]) * (w[0]*plot_x + b) \n",
        "  plt.plot(plot_x, plot_y, c='g')\n",
        "\n",
        "  return\n",
        "\n",
        "Plot_Decision_Boundary(x,y,w,b)"
      ],
      "metadata": {
        "colab": {
          "base_uri": "https://localhost:8080/",
          "height": 295
        },
        "id": "vDiOgDi2otdF",
        "outputId": "d722dd39-cd76-4450-ff5f-dd44a982d184"
      },
      "execution_count": null,
      "outputs": [
        {
          "output_type": "display_data",
          "data": {
            "text/plain": [
              "<Figure size 432x288 with 1 Axes>"
            ],
            "image/png": "[encoded data removed]"
          },
          "metadata": {
            "needs_background": "light"
          }
        }
      ]
    },
    {
      "cell_type": "code",
      "source": [
        "# Model prediction\n",
        "def predict(p, w=w, b=b):\n",
        "  m = np.size(p,0)\n",
        "  pred = np.zeros((m,1))\n",
        "\n",
        "  z = np.dot(p,w) + b\n",
        "  prob = sigmoid(z)\n",
        "\n",
        "  for i in range(m):\n",
        "    if (prob[i,] >= 0.5):\n",
        "       pred[i] = 1\n",
        "    else:\n",
        "       pred[i] = 0\n",
        "  return prob, pred\n"
      ],
      "metadata": {
        "id": "hAMQ0SOn2FOM"
      },
      "execution_count": null,
      "outputs": []
    },
    {
      "cell_type": "code",
      "source": [
        "p = np.array([[45, 85]])\n",
        "prob, pred = predict(p)\n",
        "print(\"Probability of the student getting admitted:\", prob)\n",
        "print(\"Prediction: \", pred)"
      ],
      "metadata": {
        "colab": {
          "base_uri": "https://localhost:8080/"
        },
        "id": "YXtHesdn92CO",
        "outputId": "5f109233-abf8-4562-95ec-ee6514b4c46b"
      },
      "execution_count": null,
      "outputs": [
        {
          "output_type": "stream",
          "name": "stdout",
          "text": [
            "Probability of the student getting admitted: [[0.76651602]]\n",
            "Prediction:  [[1.]]\n"
          ]
        }
      ]
    },
    {
      "cell_type": "code",
      "source": [
        "prob_x, pred_x = predict(x)"
      ],
      "metadata": {
        "id": "62J95X70bQZk"
      },
      "execution_count": null,
      "outputs": []
    },
    {
      "cell_type": "code",
      "source": [
        "# Calculate Accuracy\n",
        "print(\"Training Accuracy:\", np.mean(pred_x == y)*100)"
      ],
      "metadata": {
        "colab": {
          "base_uri": "https://localhost:8080/"
        },
        "id": "EJE8VwquVJoI",
        "outputId": "a4b4a522-ba7f-4ebf-dda3-5693c8139642"
      },
      "execution_count": null,
      "outputs": [
        {
          "output_type": "stream",
          "name": "stdout",
          "text": [
            "Training Accuracy: 89.0\n"
          ]
        }
      ]
    }
  ]
}